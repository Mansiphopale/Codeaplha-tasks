{
 "cells": [
  {
   "cell_type": "code",
   "execution_count": null,
   "id": "e2722603-e388-4653-93f3-1ea10fe81b9d",
   "metadata": {},
   "outputs": [],
   "source": [
    "#import libraries "
   ]
  },
  {
   "cell_type": "code",
   "execution_count": 1,
   "id": "21ac7394-dd72-4abc-b401-c8d2ce6e8bdf",
   "metadata": {},
   "outputs": [],
   "source": [
    "import pandas as pd \n",
    "import matplotlib.pyplot as plt"
   ]
  },
  {
   "cell_type": "code",
   "execution_count": null,
   "id": "6e9fe828-fb53-4c73-9ad0-32ee06e996ed",
   "metadata": {},
   "outputs": [],
   "source": [
    "#import dataset "
   ]
  },
  {
   "cell_type": "code",
   "execution_count": 10,
   "id": "cea45dc8-f850-4007-8e28-e35165f04d64",
   "metadata": {},
   "outputs": [],
   "source": [
    "data = pd.read_csv(\"movie_profit.csv\")"
   ]
  },
  {
   "cell_type": "code",
   "execution_count": 11,
   "id": "e78b79c0-3be8-400e-b7d7-f26185275c02",
   "metadata": {},
   "outputs": [
    {
     "data": {
      "text/html": [
       "<div>\n",
       "<style scoped>\n",
       "    .dataframe tbody tr th:only-of-type {\n",
       "        vertical-align: middle;\n",
       "    }\n",
       "\n",
       "    .dataframe tbody tr th {\n",
       "        vertical-align: top;\n",
       "    }\n",
       "\n",
       "    .dataframe thead th {\n",
       "        text-align: right;\n",
       "    }\n",
       "</style>\n",
       "<table border=\"1\" class=\"dataframe\">\n",
       "  <thead>\n",
       "    <tr style=\"text-align: right;\">\n",
       "      <th></th>\n",
       "      <th>Unnamed: 0</th>\n",
       "      <th>release_date</th>\n",
       "      <th>movie</th>\n",
       "      <th>production_budget</th>\n",
       "      <th>domestic_gross</th>\n",
       "      <th>worldwide_gross</th>\n",
       "      <th>distributor</th>\n",
       "      <th>mpaa_rating</th>\n",
       "      <th>genre</th>\n",
       "    </tr>\n",
       "  </thead>\n",
       "  <tbody>\n",
       "    <tr>\n",
       "      <th>0</th>\n",
       "      <td>1</td>\n",
       "      <td>6/22/2007</td>\n",
       "      <td>Evan Almighty</td>\n",
       "      <td>175000000.0</td>\n",
       "      <td>100289690.0</td>\n",
       "      <td>1.741313e+08</td>\n",
       "      <td>Universal</td>\n",
       "      <td>PG</td>\n",
       "      <td>Comedy</td>\n",
       "    </tr>\n",
       "    <tr>\n",
       "      <th>1</th>\n",
       "      <td>2</td>\n",
       "      <td>7/28/1995</td>\n",
       "      <td>Waterworld</td>\n",
       "      <td>175000000.0</td>\n",
       "      <td>88246220.0</td>\n",
       "      <td>2.642462e+08</td>\n",
       "      <td>Universal</td>\n",
       "      <td>PG-13</td>\n",
       "      <td>Action</td>\n",
       "    </tr>\n",
       "    <tr>\n",
       "      <th>2</th>\n",
       "      <td>3</td>\n",
       "      <td>5/12/2017</td>\n",
       "      <td>King Arthur: Legend of the Sword</td>\n",
       "      <td>175000000.0</td>\n",
       "      <td>39175066.0</td>\n",
       "      <td>1.399507e+08</td>\n",
       "      <td>Warner Bros.</td>\n",
       "      <td>PG-13</td>\n",
       "      <td>Adventure</td>\n",
       "    </tr>\n",
       "    <tr>\n",
       "      <th>3</th>\n",
       "      <td>4</td>\n",
       "      <td>12/25/2013</td>\n",
       "      <td>47 Ronin</td>\n",
       "      <td>175000000.0</td>\n",
       "      <td>38362475.0</td>\n",
       "      <td>1.517168e+08</td>\n",
       "      <td>Universal</td>\n",
       "      <td>PG-13</td>\n",
       "      <td>Action</td>\n",
       "    </tr>\n",
       "    <tr>\n",
       "      <th>4</th>\n",
       "      <td>5</td>\n",
       "      <td>6/22/2018</td>\n",
       "      <td>Jurassic World: Fallen Kingdom</td>\n",
       "      <td>170000000.0</td>\n",
       "      <td>416769345.0</td>\n",
       "      <td>1.304866e+09</td>\n",
       "      <td>Universal</td>\n",
       "      <td>PG-13</td>\n",
       "      <td>Action</td>\n",
       "    </tr>\n",
       "  </tbody>\n",
       "</table>\n",
       "</div>"
      ],
      "text/plain": [
       "   Unnamed: 0 release_date                             movie  \\\n",
       "0           1    6/22/2007                     Evan Almighty   \n",
       "1           2    7/28/1995                        Waterworld   \n",
       "2           3    5/12/2017  King Arthur: Legend of the Sword   \n",
       "3           4   12/25/2013                          47 Ronin   \n",
       "4           5    6/22/2018    Jurassic World: Fallen Kingdom   \n",
       "\n",
       "   production_budget  domestic_gross  worldwide_gross   distributor  \\\n",
       "0        175000000.0     100289690.0     1.741313e+08     Universal   \n",
       "1        175000000.0      88246220.0     2.642462e+08     Universal   \n",
       "2        175000000.0      39175066.0     1.399507e+08  Warner Bros.   \n",
       "3        175000000.0      38362475.0     1.517168e+08     Universal   \n",
       "4        170000000.0     416769345.0     1.304866e+09     Universal   \n",
       "\n",
       "  mpaa_rating      genre  \n",
       "0          PG     Comedy  \n",
       "1       PG-13     Action  \n",
       "2       PG-13  Adventure  \n",
       "3       PG-13     Action  \n",
       "4       PG-13     Action  "
      ]
     },
     "execution_count": 11,
     "metadata": {},
     "output_type": "execute_result"
    }
   ],
   "source": [
    "#first 5 rows of the dataset\n",
    "data.head()"
   ]
  },
  {
   "cell_type": "code",
   "execution_count": 12,
   "id": "2977ecb9-07a1-41d1-bc9d-f30a07c80f57",
   "metadata": {},
   "outputs": [
    {
     "data": {
      "text/html": [
       "<div>\n",
       "<style scoped>\n",
       "    .dataframe tbody tr th:only-of-type {\n",
       "        vertical-align: middle;\n",
       "    }\n",
       "\n",
       "    .dataframe tbody tr th {\n",
       "        vertical-align: top;\n",
       "    }\n",
       "\n",
       "    .dataframe thead th {\n",
       "        text-align: right;\n",
       "    }\n",
       "</style>\n",
       "<table border=\"1\" class=\"dataframe\">\n",
       "  <thead>\n",
       "    <tr style=\"text-align: right;\">\n",
       "      <th></th>\n",
       "      <th>Unnamed: 0</th>\n",
       "      <th>release_date</th>\n",
       "      <th>movie</th>\n",
       "      <th>production_budget</th>\n",
       "      <th>domestic_gross</th>\n",
       "      <th>worldwide_gross</th>\n",
       "      <th>distributor</th>\n",
       "      <th>mpaa_rating</th>\n",
       "      <th>genre</th>\n",
       "    </tr>\n",
       "  </thead>\n",
       "  <tbody>\n",
       "    <tr>\n",
       "      <th>3396</th>\n",
       "      <td>3397</td>\n",
       "      <td>10/28/2011</td>\n",
       "      <td>Like Crazy</td>\n",
       "      <td>250000.0</td>\n",
       "      <td>3395391.0</td>\n",
       "      <td>3728400.0</td>\n",
       "      <td>Paramount Pictures</td>\n",
       "      <td>PG-13</td>\n",
       "      <td>Drama</td>\n",
       "    </tr>\n",
       "    <tr>\n",
       "      <th>3397</th>\n",
       "      <td>3398</td>\n",
       "      <td>7/14/2000</td>\n",
       "      <td>Chuck&amp;Buck</td>\n",
       "      <td>250000.0</td>\n",
       "      <td>1055671.0</td>\n",
       "      <td>1157672.0</td>\n",
       "      <td>Artisan</td>\n",
       "      <td>R</td>\n",
       "      <td>Drama</td>\n",
       "    </tr>\n",
       "    <tr>\n",
       "      <th>3398</th>\n",
       "      <td>3399</td>\n",
       "      <td>3/28/1997</td>\n",
       "      <td>Love and Other Catastrophes</td>\n",
       "      <td>250000.0</td>\n",
       "      <td>212285.0</td>\n",
       "      <td>743216.0</td>\n",
       "      <td>Fox Searchlight</td>\n",
       "      <td>R</td>\n",
       "      <td>Comedy</td>\n",
       "    </tr>\n",
       "    <tr>\n",
       "      <th>3399</th>\n",
       "      <td>3400</td>\n",
       "      <td>8/28/1998</td>\n",
       "      <td>I Married a Strange Person</td>\n",
       "      <td>250000.0</td>\n",
       "      <td>203134.0</td>\n",
       "      <td>203134.0</td>\n",
       "      <td>Lionsgate</td>\n",
       "      <td>NaN</td>\n",
       "      <td>Comedy</td>\n",
       "    </tr>\n",
       "    <tr>\n",
       "      <th>3400</th>\n",
       "      <td>3401</td>\n",
       "      <td>7/22/2005</td>\n",
       "      <td>November</td>\n",
       "      <td>250000.0</td>\n",
       "      <td>191862.0</td>\n",
       "      <td>191862.0</td>\n",
       "      <td>Sony Pictures Classics</td>\n",
       "      <td>R</td>\n",
       "      <td>Drama</td>\n",
       "    </tr>\n",
       "  </tbody>\n",
       "</table>\n",
       "</div>"
      ],
      "text/plain": [
       "      Unnamed: 0 release_date                        movie  production_budget  \\\n",
       "3396        3397   10/28/2011                   Like Crazy           250000.0   \n",
       "3397        3398    7/14/2000                   Chuck&Buck           250000.0   \n",
       "3398        3399    3/28/1997  Love and Other Catastrophes           250000.0   \n",
       "3399        3400    8/28/1998   I Married a Strange Person           250000.0   \n",
       "3400        3401    7/22/2005                     November           250000.0   \n",
       "\n",
       "      domestic_gross  worldwide_gross             distributor mpaa_rating  \\\n",
       "3396       3395391.0        3728400.0      Paramount Pictures       PG-13   \n",
       "3397       1055671.0        1157672.0                 Artisan           R   \n",
       "3398        212285.0         743216.0         Fox Searchlight           R   \n",
       "3399        203134.0         203134.0               Lionsgate         NaN   \n",
       "3400        191862.0         191862.0  Sony Pictures Classics           R   \n",
       "\n",
       "       genre  \n",
       "3396   Drama  \n",
       "3397   Drama  \n",
       "3398  Comedy  \n",
       "3399  Comedy  \n",
       "3400   Drama  "
      ]
     },
     "execution_count": 12,
     "metadata": {},
     "output_type": "execute_result"
    }
   ],
   "source": [
    "#the last 5 rows of the dataset. \n",
    "data.tail()"
   ]
  },
  {
   "cell_type": "code",
   "execution_count": 13,
   "id": "c73cc1a9-ac08-4f02-970f-3bb0b8195fcf",
   "metadata": {},
   "outputs": [
    {
     "data": {
      "text/html": [
       "<div>\n",
       "<style scoped>\n",
       "    .dataframe tbody tr th:only-of-type {\n",
       "        vertical-align: middle;\n",
       "    }\n",
       "\n",
       "    .dataframe tbody tr th {\n",
       "        vertical-align: top;\n",
       "    }\n",
       "\n",
       "    .dataframe thead th {\n",
       "        text-align: right;\n",
       "    }\n",
       "</style>\n",
       "<table border=\"1\" class=\"dataframe\">\n",
       "  <thead>\n",
       "    <tr style=\"text-align: right;\">\n",
       "      <th></th>\n",
       "      <th>Unnamed: 0</th>\n",
       "      <th>release_date</th>\n",
       "      <th>movie</th>\n",
       "      <th>production_budget</th>\n",
       "      <th>domestic_gross</th>\n",
       "      <th>worldwide_gross</th>\n",
       "      <th>distributor</th>\n",
       "      <th>mpaa_rating</th>\n",
       "      <th>genre</th>\n",
       "    </tr>\n",
       "  </thead>\n",
       "  <tbody>\n",
       "    <tr>\n",
       "      <th>0</th>\n",
       "      <td>1</td>\n",
       "      <td>6/22/2007</td>\n",
       "      <td>Evan Almighty</td>\n",
       "      <td>175000000.0</td>\n",
       "      <td>100289690.0</td>\n",
       "      <td>174131329.0</td>\n",
       "      <td>Universal</td>\n",
       "      <td>PG</td>\n",
       "      <td>Comedy</td>\n",
       "    </tr>\n",
       "    <tr>\n",
       "      <th>1</th>\n",
       "      <td>2</td>\n",
       "      <td>7/28/1995</td>\n",
       "      <td>Waterworld</td>\n",
       "      <td>175000000.0</td>\n",
       "      <td>88246220.0</td>\n",
       "      <td>264246220.0</td>\n",
       "      <td>Universal</td>\n",
       "      <td>PG-13</td>\n",
       "      <td>Action</td>\n",
       "    </tr>\n",
       "    <tr>\n",
       "      <th>2</th>\n",
       "      <td>3</td>\n",
       "      <td>5/12/2017</td>\n",
       "      <td>King Arthur: Legend of the Sword</td>\n",
       "      <td>175000000.0</td>\n",
       "      <td>39175066.0</td>\n",
       "      <td>139950708.0</td>\n",
       "      <td>Warner Bros.</td>\n",
       "      <td>PG-13</td>\n",
       "      <td>Adventure</td>\n",
       "    </tr>\n",
       "  </tbody>\n",
       "</table>\n",
       "</div>"
      ],
      "text/plain": [
       "   Unnamed: 0 release_date                             movie  \\\n",
       "0           1    6/22/2007                     Evan Almighty   \n",
       "1           2    7/28/1995                        Waterworld   \n",
       "2           3    5/12/2017  King Arthur: Legend of the Sword   \n",
       "\n",
       "   production_budget  domestic_gross  worldwide_gross   distributor  \\\n",
       "0        175000000.0     100289690.0      174131329.0     Universal   \n",
       "1        175000000.0      88246220.0      264246220.0     Universal   \n",
       "2        175000000.0      39175066.0      139950708.0  Warner Bros.   \n",
       "\n",
       "  mpaa_rating      genre  \n",
       "0          PG     Comedy  \n",
       "1       PG-13     Action  \n",
       "2       PG-13  Adventure  "
      ]
     },
     "execution_count": 13,
     "metadata": {},
     "output_type": "execute_result"
    }
   ],
   "source": [
    "data.head(3)"
   ]
  },
  {
   "cell_type": "code",
   "execution_count": 14,
   "id": "f5709c61-617a-4d6d-9a39-fe17d0e8b1a9",
   "metadata": {},
   "outputs": [
    {
     "data": {
      "text/plain": [
       "Index(['Unnamed: 0', 'release_date', 'movie', 'production_budget',\n",
       "       'domestic_gross', 'worldwide_gross', 'distributor', 'mpaa_rating',\n",
       "       'genre'],\n",
       "      dtype='object')"
      ]
     },
     "execution_count": 14,
     "metadata": {},
     "output_type": "execute_result"
    }
   ],
   "source": [
    "# list of column names in the dataset.\n",
    "data.columns"
   ]
  },
  {
   "cell_type": "code",
   "execution_count": 15,
   "id": "932e7d80-7fc2-43a7-a88a-154ec792bec0",
   "metadata": {},
   "outputs": [],
   "source": [
    "#Drops an unnecessary index column automatically created when the CSV was saved.\n",
    "\n",
    "\n",
    "data.drop(columns=('Unnamed: 0'),inplace=True)"
   ]
  },
  {
   "cell_type": "code",
   "execution_count": 16,
   "id": "e2a370d6-2a0f-4bd6-a215-a9f79270c034",
   "metadata": {},
   "outputs": [
    {
     "data": {
      "text/html": [
       "<div>\n",
       "<style scoped>\n",
       "    .dataframe tbody tr th:only-of-type {\n",
       "        vertical-align: middle;\n",
       "    }\n",
       "\n",
       "    .dataframe tbody tr th {\n",
       "        vertical-align: top;\n",
       "    }\n",
       "\n",
       "    .dataframe thead th {\n",
       "        text-align: right;\n",
       "    }\n",
       "</style>\n",
       "<table border=\"1\" class=\"dataframe\">\n",
       "  <thead>\n",
       "    <tr style=\"text-align: right;\">\n",
       "      <th></th>\n",
       "      <th>release_date</th>\n",
       "      <th>movie</th>\n",
       "      <th>production_budget</th>\n",
       "      <th>domestic_gross</th>\n",
       "      <th>worldwide_gross</th>\n",
       "      <th>distributor</th>\n",
       "      <th>mpaa_rating</th>\n",
       "      <th>genre</th>\n",
       "    </tr>\n",
       "  </thead>\n",
       "  <tbody>\n",
       "    <tr>\n",
       "      <th>0</th>\n",
       "      <td>6/22/2007</td>\n",
       "      <td>Evan Almighty</td>\n",
       "      <td>175000000.0</td>\n",
       "      <td>100289690.0</td>\n",
       "      <td>1.741313e+08</td>\n",
       "      <td>Universal</td>\n",
       "      <td>PG</td>\n",
       "      <td>Comedy</td>\n",
       "    </tr>\n",
       "    <tr>\n",
       "      <th>1</th>\n",
       "      <td>7/28/1995</td>\n",
       "      <td>Waterworld</td>\n",
       "      <td>175000000.0</td>\n",
       "      <td>88246220.0</td>\n",
       "      <td>2.642462e+08</td>\n",
       "      <td>Universal</td>\n",
       "      <td>PG-13</td>\n",
       "      <td>Action</td>\n",
       "    </tr>\n",
       "    <tr>\n",
       "      <th>2</th>\n",
       "      <td>5/12/2017</td>\n",
       "      <td>King Arthur: Legend of the Sword</td>\n",
       "      <td>175000000.0</td>\n",
       "      <td>39175066.0</td>\n",
       "      <td>1.399507e+08</td>\n",
       "      <td>Warner Bros.</td>\n",
       "      <td>PG-13</td>\n",
       "      <td>Adventure</td>\n",
       "    </tr>\n",
       "    <tr>\n",
       "      <th>3</th>\n",
       "      <td>12/25/2013</td>\n",
       "      <td>47 Ronin</td>\n",
       "      <td>175000000.0</td>\n",
       "      <td>38362475.0</td>\n",
       "      <td>1.517168e+08</td>\n",
       "      <td>Universal</td>\n",
       "      <td>PG-13</td>\n",
       "      <td>Action</td>\n",
       "    </tr>\n",
       "    <tr>\n",
       "      <th>4</th>\n",
       "      <td>6/22/2018</td>\n",
       "      <td>Jurassic World: Fallen Kingdom</td>\n",
       "      <td>170000000.0</td>\n",
       "      <td>416769345.0</td>\n",
       "      <td>1.304866e+09</td>\n",
       "      <td>Universal</td>\n",
       "      <td>PG-13</td>\n",
       "      <td>Action</td>\n",
       "    </tr>\n",
       "  </tbody>\n",
       "</table>\n",
       "</div>"
      ],
      "text/plain": [
       "  release_date                             movie  production_budget  \\\n",
       "0    6/22/2007                     Evan Almighty        175000000.0   \n",
       "1    7/28/1995                        Waterworld        175000000.0   \n",
       "2    5/12/2017  King Arthur: Legend of the Sword        175000000.0   \n",
       "3   12/25/2013                          47 Ronin        175000000.0   \n",
       "4    6/22/2018    Jurassic World: Fallen Kingdom        170000000.0   \n",
       "\n",
       "   domestic_gross  worldwide_gross   distributor mpaa_rating      genre  \n",
       "0     100289690.0     1.741313e+08     Universal          PG     Comedy  \n",
       "1      88246220.0     2.642462e+08     Universal       PG-13     Action  \n",
       "2      39175066.0     1.399507e+08  Warner Bros.       PG-13  Adventure  \n",
       "3      38362475.0     1.517168e+08     Universal       PG-13     Action  \n",
       "4     416769345.0     1.304866e+09     Universal       PG-13     Action  "
      ]
     },
     "execution_count": 16,
     "metadata": {},
     "output_type": "execute_result"
    }
   ],
   "source": [
    "data.head()"
   ]
  },
  {
   "cell_type": "code",
   "execution_count": 17,
   "id": "25ae0b42-dec5-4989-afd2-5dfc4807757e",
   "metadata": {},
   "outputs": [
    {
     "name": "stdout",
     "output_type": "stream",
     "text": [
      "<class 'pandas.core.frame.DataFrame'>\n",
      "RangeIndex: 3401 entries, 0 to 3400\n",
      "Data columns (total 8 columns):\n",
      " #   Column             Non-Null Count  Dtype  \n",
      "---  ------             --------------  -----  \n",
      " 0   release_date       3401 non-null   object \n",
      " 1   movie              3401 non-null   object \n",
      " 2   production_budget  3401 non-null   float64\n",
      " 3   domestic_gross     3401 non-null   float64\n",
      " 4   worldwide_gross    3401 non-null   float64\n",
      " 5   distributor        3353 non-null   object \n",
      " 6   mpaa_rating        3264 non-null   object \n",
      " 7   genre              3401 non-null   object \n",
      "dtypes: float64(3), object(5)\n",
      "memory usage: 212.7+ KB\n"
     ]
    }
   ],
   "source": [
    "#Drops an unnecessary index column automatically created when the CSV was saved.\n",
    "\n",
    "\n",
    "data.info()"
   ]
  },
  {
   "cell_type": "code",
   "execution_count": 18,
   "id": "df6d1a76-52ab-4a9c-972d-514646bd6025",
   "metadata": {},
   "outputs": [
    {
     "data": {
      "text/plain": [
       "release_date           0\n",
       "movie                  0\n",
       "production_budget      0\n",
       "domestic_gross         0\n",
       "worldwide_gross        0\n",
       "distributor           48\n",
       "mpaa_rating          137\n",
       "genre                  0\n",
       "dtype: int64"
      ]
     },
     "execution_count": 18,
     "metadata": {},
     "output_type": "execute_result"
    }
   ],
   "source": [
    "#number of missing values in each column.\n",
    "data.isnull().sum()"
   ]
  },
  {
   "cell_type": "code",
   "execution_count": 19,
   "id": "03ddd6f4-ea79-4784-919d-0eb6c03eb24a",
   "metadata": {},
   "outputs": [
    {
     "data": {
      "text/plain": [
       "(3401, 8)"
      ]
     },
     "execution_count": 19,
     "metadata": {},
     "output_type": "execute_result"
    }
   ],
   "source": [
    "#number of rows and columns in the dataset.\n",
    "data.shape"
   ]
  },
  {
   "cell_type": "code",
   "execution_count": 21,
   "id": "2e728917-b6bb-48ad-9455-82d008201e2d",
   "metadata": {},
   "outputs": [],
   "source": [
    "#Removes rows with any null (missing) values.\n",
    "# Insight: Can lead to cleaner analysis but might reduce dataset size.\n",
    "data.dropna(inplace = True)"
   ]
  },
  {
   "cell_type": "code",
   "execution_count": 22,
   "id": "0f3db012-1d28-4812-94db-576ee25d8c2c",
   "metadata": {},
   "outputs": [
    {
     "data": {
      "text/plain": [
       "release_date         0\n",
       "movie                0\n",
       "production_budget    0\n",
       "domestic_gross       0\n",
       "worldwide_gross      0\n",
       "distributor          0\n",
       "mpaa_rating          0\n",
       "genre                0\n",
       "dtype: int64"
      ]
     },
     "execution_count": 22,
     "metadata": {},
     "output_type": "execute_result"
    }
   ],
   "source": [
    "data.isnull().sum()"
   ]
  },
  {
   "cell_type": "code",
   "execution_count": 24,
   "id": "1ce8903d-fff0-4d5d-b37a-98a21aa48db9",
   "metadata": {},
   "outputs": [
    {
     "data": {
      "text/plain": [
       "0"
      ]
     },
     "execution_count": 24,
     "metadata": {},
     "output_type": "execute_result"
    }
   ],
   "source": [
    "data.duplicated().sum()"
   ]
  },
  {
   "cell_type": "code",
   "execution_count": 25,
   "id": "1111f049-c9a6-4e4f-bb7a-073e2ac25341",
   "metadata": {},
   "outputs": [
    {
     "data": {
      "text/html": [
       "<div>\n",
       "<style scoped>\n",
       "    .dataframe tbody tr th:only-of-type {\n",
       "        vertical-align: middle;\n",
       "    }\n",
       "\n",
       "    .dataframe tbody tr th {\n",
       "        vertical-align: top;\n",
       "    }\n",
       "\n",
       "    .dataframe thead th {\n",
       "        text-align: right;\n",
       "    }\n",
       "</style>\n",
       "<table border=\"1\" class=\"dataframe\">\n",
       "  <thead>\n",
       "    <tr style=\"text-align: right;\">\n",
       "      <th></th>\n",
       "      <th>production_budget</th>\n",
       "      <th>domestic_gross</th>\n",
       "      <th>worldwide_gross</th>\n",
       "    </tr>\n",
       "  </thead>\n",
       "  <tbody>\n",
       "    <tr>\n",
       "      <th>count</th>\n",
       "      <td>3.230000e+03</td>\n",
       "      <td>3.230000e+03</td>\n",
       "      <td>3.230000e+03</td>\n",
       "    </tr>\n",
       "    <tr>\n",
       "      <th>mean</th>\n",
       "      <td>3.459218e+07</td>\n",
       "      <td>4.726805e+07</td>\n",
       "      <td>9.841706e+07</td>\n",
       "    </tr>\n",
       "    <tr>\n",
       "      <th>std</th>\n",
       "      <td>3.526337e+07</td>\n",
       "      <td>5.973707e+07</td>\n",
       "      <td>1.432841e+08</td>\n",
       "    </tr>\n",
       "    <tr>\n",
       "      <th>min</th>\n",
       "      <td>2.500000e+05</td>\n",
       "      <td>0.000000e+00</td>\n",
       "      <td>0.000000e+00</td>\n",
       "    </tr>\n",
       "    <tr>\n",
       "      <th>25%</th>\n",
       "      <td>1.000000e+07</td>\n",
       "      <td>6.867944e+06</td>\n",
       "      <td>1.177994e+07</td>\n",
       "    </tr>\n",
       "    <tr>\n",
       "      <th>50%</th>\n",
       "      <td>2.200000e+07</td>\n",
       "      <td>2.733297e+07</td>\n",
       "      <td>4.404424e+07</td>\n",
       "    </tr>\n",
       "    <tr>\n",
       "      <th>75%</th>\n",
       "      <td>4.900000e+07</td>\n",
       "      <td>6.341329e+07</td>\n",
       "      <td>1.252019e+08</td>\n",
       "    </tr>\n",
       "    <tr>\n",
       "      <th>max</th>\n",
       "      <td>1.750000e+08</td>\n",
       "      <td>4.745447e+08</td>\n",
       "      <td>1.304866e+09</td>\n",
       "    </tr>\n",
       "  </tbody>\n",
       "</table>\n",
       "</div>"
      ],
      "text/plain": [
       "       production_budget  domestic_gross  worldwide_gross\n",
       "count       3.230000e+03    3.230000e+03     3.230000e+03\n",
       "mean        3.459218e+07    4.726805e+07     9.841706e+07\n",
       "std         3.526337e+07    5.973707e+07     1.432841e+08\n",
       "min         2.500000e+05    0.000000e+00     0.000000e+00\n",
       "25%         1.000000e+07    6.867944e+06     1.177994e+07\n",
       "50%         2.200000e+07    2.733297e+07     4.404424e+07\n",
       "75%         4.900000e+07    6.341329e+07     1.252019e+08\n",
       "max         1.750000e+08    4.745447e+08     1.304866e+09"
      ]
     },
     "execution_count": 25,
     "metadata": {},
     "output_type": "execute_result"
    }
   ],
   "source": [
    "# Generates descriptive stats like mean, std dev, min, and max.\n",
    "#Insight: Quick way to identify outliers or suspicious values.\n",
    "data.describe()"
   ]
  },
  {
   "cell_type": "code",
   "execution_count": 26,
   "id": "6968f2d3-f0a1-483d-98ac-5110daf1ab4c",
   "metadata": {},
   "outputs": [
    {
     "data": {
      "text/html": [
       "<div>\n",
       "<style scoped>\n",
       "    .dataframe tbody tr th:only-of-type {\n",
       "        vertical-align: middle;\n",
       "    }\n",
       "\n",
       "    .dataframe tbody tr th {\n",
       "        vertical-align: top;\n",
       "    }\n",
       "\n",
       "    .dataframe thead th {\n",
       "        text-align: right;\n",
       "    }\n",
       "</style>\n",
       "<table border=\"1\" class=\"dataframe\">\n",
       "  <thead>\n",
       "    <tr style=\"text-align: right;\">\n",
       "      <th></th>\n",
       "      <th>release_date</th>\n",
       "      <th>movie</th>\n",
       "      <th>production_budget</th>\n",
       "      <th>domestic_gross</th>\n",
       "      <th>worldwide_gross</th>\n",
       "      <th>distributor</th>\n",
       "      <th>mpaa_rating</th>\n",
       "      <th>genre</th>\n",
       "    </tr>\n",
       "  </thead>\n",
       "  <tbody>\n",
       "    <tr>\n",
       "      <th>0</th>\n",
       "      <td>6/22/2007</td>\n",
       "      <td>Evan Almighty</td>\n",
       "      <td>175000000.0</td>\n",
       "      <td>100289690.0</td>\n",
       "      <td>1.741313e+08</td>\n",
       "      <td>Universal</td>\n",
       "      <td>PG</td>\n",
       "      <td>Comedy</td>\n",
       "    </tr>\n",
       "    <tr>\n",
       "      <th>1</th>\n",
       "      <td>7/28/1995</td>\n",
       "      <td>Waterworld</td>\n",
       "      <td>175000000.0</td>\n",
       "      <td>88246220.0</td>\n",
       "      <td>2.642462e+08</td>\n",
       "      <td>Universal</td>\n",
       "      <td>PG-13</td>\n",
       "      <td>Action</td>\n",
       "    </tr>\n",
       "    <tr>\n",
       "      <th>2</th>\n",
       "      <td>5/12/2017</td>\n",
       "      <td>King Arthur: Legend of the Sword</td>\n",
       "      <td>175000000.0</td>\n",
       "      <td>39175066.0</td>\n",
       "      <td>1.399507e+08</td>\n",
       "      <td>Warner Bros.</td>\n",
       "      <td>PG-13</td>\n",
       "      <td>Adventure</td>\n",
       "    </tr>\n",
       "    <tr>\n",
       "      <th>3</th>\n",
       "      <td>12/25/2013</td>\n",
       "      <td>47 Ronin</td>\n",
       "      <td>175000000.0</td>\n",
       "      <td>38362475.0</td>\n",
       "      <td>1.517168e+08</td>\n",
       "      <td>Universal</td>\n",
       "      <td>PG-13</td>\n",
       "      <td>Action</td>\n",
       "    </tr>\n",
       "    <tr>\n",
       "      <th>4</th>\n",
       "      <td>6/22/2018</td>\n",
       "      <td>Jurassic World: Fallen Kingdom</td>\n",
       "      <td>170000000.0</td>\n",
       "      <td>416769345.0</td>\n",
       "      <td>1.304866e+09</td>\n",
       "      <td>Universal</td>\n",
       "      <td>PG-13</td>\n",
       "      <td>Action</td>\n",
       "    </tr>\n",
       "    <tr>\n",
       "      <th>...</th>\n",
       "      <td>...</td>\n",
       "      <td>...</td>\n",
       "      <td>...</td>\n",
       "      <td>...</td>\n",
       "      <td>...</td>\n",
       "      <td>...</td>\n",
       "      <td>...</td>\n",
       "      <td>...</td>\n",
       "    </tr>\n",
       "    <tr>\n",
       "      <th>3395</th>\n",
       "      <td>4/11/2003</td>\n",
       "      <td>Better Luck Tomorrow</td>\n",
       "      <td>250000.0</td>\n",
       "      <td>3802390.0</td>\n",
       "      <td>3.809226e+06</td>\n",
       "      <td>Paramount Pictures</td>\n",
       "      <td>R</td>\n",
       "      <td>Drama</td>\n",
       "    </tr>\n",
       "    <tr>\n",
       "      <th>3396</th>\n",
       "      <td>10/28/2011</td>\n",
       "      <td>Like Crazy</td>\n",
       "      <td>250000.0</td>\n",
       "      <td>3395391.0</td>\n",
       "      <td>3.728400e+06</td>\n",
       "      <td>Paramount Pictures</td>\n",
       "      <td>PG-13</td>\n",
       "      <td>Drama</td>\n",
       "    </tr>\n",
       "    <tr>\n",
       "      <th>3397</th>\n",
       "      <td>7/14/2000</td>\n",
       "      <td>Chuck&amp;Buck</td>\n",
       "      <td>250000.0</td>\n",
       "      <td>1055671.0</td>\n",
       "      <td>1.157672e+06</td>\n",
       "      <td>Artisan</td>\n",
       "      <td>R</td>\n",
       "      <td>Drama</td>\n",
       "    </tr>\n",
       "    <tr>\n",
       "      <th>3398</th>\n",
       "      <td>3/28/1997</td>\n",
       "      <td>Love and Other Catastrophes</td>\n",
       "      <td>250000.0</td>\n",
       "      <td>212285.0</td>\n",
       "      <td>7.432160e+05</td>\n",
       "      <td>Fox Searchlight</td>\n",
       "      <td>R</td>\n",
       "      <td>Comedy</td>\n",
       "    </tr>\n",
       "    <tr>\n",
       "      <th>3400</th>\n",
       "      <td>7/22/2005</td>\n",
       "      <td>November</td>\n",
       "      <td>250000.0</td>\n",
       "      <td>191862.0</td>\n",
       "      <td>1.918620e+05</td>\n",
       "      <td>Sony Pictures Classics</td>\n",
       "      <td>R</td>\n",
       "      <td>Drama</td>\n",
       "    </tr>\n",
       "  </tbody>\n",
       "</table>\n",
       "<p>3230 rows × 8 columns</p>\n",
       "</div>"
      ],
      "text/plain": [
       "     release_date                             movie  production_budget  \\\n",
       "0       6/22/2007                     Evan Almighty        175000000.0   \n",
       "1       7/28/1995                        Waterworld        175000000.0   \n",
       "2       5/12/2017  King Arthur: Legend of the Sword        175000000.0   \n",
       "3      12/25/2013                          47 Ronin        175000000.0   \n",
       "4       6/22/2018    Jurassic World: Fallen Kingdom        170000000.0   \n",
       "...           ...                               ...                ...   \n",
       "3395    4/11/2003              Better Luck Tomorrow           250000.0   \n",
       "3396   10/28/2011                        Like Crazy           250000.0   \n",
       "3397    7/14/2000                        Chuck&Buck           250000.0   \n",
       "3398    3/28/1997       Love and Other Catastrophes           250000.0   \n",
       "3400    7/22/2005                          November           250000.0   \n",
       "\n",
       "      domestic_gross  worldwide_gross             distributor mpaa_rating  \\\n",
       "0        100289690.0     1.741313e+08               Universal          PG   \n",
       "1         88246220.0     2.642462e+08               Universal       PG-13   \n",
       "2         39175066.0     1.399507e+08            Warner Bros.       PG-13   \n",
       "3         38362475.0     1.517168e+08               Universal       PG-13   \n",
       "4        416769345.0     1.304866e+09               Universal       PG-13   \n",
       "...              ...              ...                     ...         ...   \n",
       "3395       3802390.0     3.809226e+06      Paramount Pictures           R   \n",
       "3396       3395391.0     3.728400e+06      Paramount Pictures       PG-13   \n",
       "3397       1055671.0     1.157672e+06                 Artisan           R   \n",
       "3398        212285.0     7.432160e+05         Fox Searchlight           R   \n",
       "3400        191862.0     1.918620e+05  Sony Pictures Classics           R   \n",
       "\n",
       "          genre  \n",
       "0        Comedy  \n",
       "1        Action  \n",
       "2     Adventure  \n",
       "3        Action  \n",
       "4        Action  \n",
       "...         ...  \n",
       "3395      Drama  \n",
       "3396      Drama  \n",
       "3397      Drama  \n",
       "3398     Comedy  \n",
       "3400      Drama  \n",
       "\n",
       "[3230 rows x 8 columns]"
      ]
     },
     "execution_count": 26,
     "metadata": {},
     "output_type": "execute_result"
    }
   ],
   "source": [
    "data"
   ]
  },
  {
   "cell_type": "code",
   "execution_count": 28,
   "id": "622f7411-9945-42b2-a9db-4e2bd8e15cc7",
   "metadata": {},
   "outputs": [],
   "source": [
    "#Sorts dataset by production budget in ascending order and displays it.\n",
    "data.sort_values(\"production_budget\", ascending = True , inplace = True )"
   ]
  },
  {
   "cell_type": "code",
   "execution_count": 29,
   "id": "6c76eac1-c649-46be-9053-350238834bcf",
   "metadata": {},
   "outputs": [
    {
     "data": {
      "text/html": [
       "<div>\n",
       "<style scoped>\n",
       "    .dataframe tbody tr th:only-of-type {\n",
       "        vertical-align: middle;\n",
       "    }\n",
       "\n",
       "    .dataframe tbody tr th {\n",
       "        vertical-align: top;\n",
       "    }\n",
       "\n",
       "    .dataframe thead th {\n",
       "        text-align: right;\n",
       "    }\n",
       "</style>\n",
       "<table border=\"1\" class=\"dataframe\">\n",
       "  <thead>\n",
       "    <tr style=\"text-align: right;\">\n",
       "      <th></th>\n",
       "      <th>release_date</th>\n",
       "      <th>movie</th>\n",
       "      <th>production_budget</th>\n",
       "      <th>domestic_gross</th>\n",
       "      <th>worldwide_gross</th>\n",
       "      <th>distributor</th>\n",
       "      <th>mpaa_rating</th>\n",
       "      <th>genre</th>\n",
       "    </tr>\n",
       "  </thead>\n",
       "  <tbody>\n",
       "    <tr>\n",
       "      <th>3400</th>\n",
       "      <td>7/22/2005</td>\n",
       "      <td>November</td>\n",
       "      <td>250000.0</td>\n",
       "      <td>191862.0</td>\n",
       "      <td>191862.0</td>\n",
       "      <td>Sony Pictures Classics</td>\n",
       "      <td>R</td>\n",
       "      <td>Drama</td>\n",
       "    </tr>\n",
       "    <tr>\n",
       "      <th>3393</th>\n",
       "      <td>6/28/2002</td>\n",
       "      <td>Lovely and Amazing</td>\n",
       "      <td>250000.0</td>\n",
       "      <td>4210379.0</td>\n",
       "      <td>4613482.0</td>\n",
       "      <td>Lionsgate</td>\n",
       "      <td>R</td>\n",
       "      <td>Drama</td>\n",
       "    </tr>\n",
       "    <tr>\n",
       "      <th>3394</th>\n",
       "      <td>4/28/2017</td>\n",
       "      <td>Sleight</td>\n",
       "      <td>250000.0</td>\n",
       "      <td>3930990.0</td>\n",
       "      <td>3934450.0</td>\n",
       "      <td>High Top Releasing</td>\n",
       "      <td>R</td>\n",
       "      <td>Action</td>\n",
       "    </tr>\n",
       "    <tr>\n",
       "      <th>3398</th>\n",
       "      <td>3/28/1997</td>\n",
       "      <td>Love and Other Catastrophes</td>\n",
       "      <td>250000.0</td>\n",
       "      <td>212285.0</td>\n",
       "      <td>743216.0</td>\n",
       "      <td>Fox Searchlight</td>\n",
       "      <td>R</td>\n",
       "      <td>Comedy</td>\n",
       "    </tr>\n",
       "    <tr>\n",
       "      <th>3396</th>\n",
       "      <td>10/28/2011</td>\n",
       "      <td>Like Crazy</td>\n",
       "      <td>250000.0</td>\n",
       "      <td>3395391.0</td>\n",
       "      <td>3728400.0</td>\n",
       "      <td>Paramount Pictures</td>\n",
       "      <td>PG-13</td>\n",
       "      <td>Drama</td>\n",
       "    </tr>\n",
       "    <tr>\n",
       "      <th>...</th>\n",
       "      <td>...</td>\n",
       "      <td>...</td>\n",
       "      <td>...</td>\n",
       "      <td>...</td>\n",
       "      <td>...</td>\n",
       "      <td>...</td>\n",
       "      <td>...</td>\n",
       "      <td>...</td>\n",
       "    </tr>\n",
       "    <tr>\n",
       "      <th>9</th>\n",
       "      <td>11/10/2004</td>\n",
       "      <td>The Polar Express</td>\n",
       "      <td>170000000.0</td>\n",
       "      <td>186493587.0</td>\n",
       "      <td>310634169.0</td>\n",
       "      <td>Warner Bros.</td>\n",
       "      <td>G</td>\n",
       "      <td>Adventure</td>\n",
       "    </tr>\n",
       "    <tr>\n",
       "      <th>3</th>\n",
       "      <td>12/25/2013</td>\n",
       "      <td>47 Ronin</td>\n",
       "      <td>175000000.0</td>\n",
       "      <td>38362475.0</td>\n",
       "      <td>151716815.0</td>\n",
       "      <td>Universal</td>\n",
       "      <td>PG-13</td>\n",
       "      <td>Action</td>\n",
       "    </tr>\n",
       "    <tr>\n",
       "      <th>2</th>\n",
       "      <td>5/12/2017</td>\n",
       "      <td>King Arthur: Legend of the Sword</td>\n",
       "      <td>175000000.0</td>\n",
       "      <td>39175066.0</td>\n",
       "      <td>139950708.0</td>\n",
       "      <td>Warner Bros.</td>\n",
       "      <td>PG-13</td>\n",
       "      <td>Adventure</td>\n",
       "    </tr>\n",
       "    <tr>\n",
       "      <th>1</th>\n",
       "      <td>7/28/1995</td>\n",
       "      <td>Waterworld</td>\n",
       "      <td>175000000.0</td>\n",
       "      <td>88246220.0</td>\n",
       "      <td>264246220.0</td>\n",
       "      <td>Universal</td>\n",
       "      <td>PG-13</td>\n",
       "      <td>Action</td>\n",
       "    </tr>\n",
       "    <tr>\n",
       "      <th>0</th>\n",
       "      <td>6/22/2007</td>\n",
       "      <td>Evan Almighty</td>\n",
       "      <td>175000000.0</td>\n",
       "      <td>100289690.0</td>\n",
       "      <td>174131329.0</td>\n",
       "      <td>Universal</td>\n",
       "      <td>PG</td>\n",
       "      <td>Comedy</td>\n",
       "    </tr>\n",
       "  </tbody>\n",
       "</table>\n",
       "<p>3230 rows × 8 columns</p>\n",
       "</div>"
      ],
      "text/plain": [
       "     release_date                             movie  production_budget  \\\n",
       "3400    7/22/2005                          November           250000.0   \n",
       "3393    6/28/2002                Lovely and Amazing           250000.0   \n",
       "3394    4/28/2017                           Sleight           250000.0   \n",
       "3398    3/28/1997       Love and Other Catastrophes           250000.0   \n",
       "3396   10/28/2011                        Like Crazy           250000.0   \n",
       "...           ...                               ...                ...   \n",
       "9      11/10/2004                 The Polar Express        170000000.0   \n",
       "3      12/25/2013                          47 Ronin        175000000.0   \n",
       "2       5/12/2017  King Arthur: Legend of the Sword        175000000.0   \n",
       "1       7/28/1995                        Waterworld        175000000.0   \n",
       "0       6/22/2007                     Evan Almighty        175000000.0   \n",
       "\n",
       "      domestic_gross  worldwide_gross             distributor mpaa_rating  \\\n",
       "3400        191862.0         191862.0  Sony Pictures Classics           R   \n",
       "3393       4210379.0        4613482.0               Lionsgate           R   \n",
       "3394       3930990.0        3934450.0      High Top Releasing           R   \n",
       "3398        212285.0         743216.0         Fox Searchlight           R   \n",
       "3396       3395391.0        3728400.0      Paramount Pictures       PG-13   \n",
       "...              ...              ...                     ...         ...   \n",
       "9        186493587.0      310634169.0            Warner Bros.           G   \n",
       "3         38362475.0      151716815.0               Universal       PG-13   \n",
       "2         39175066.0      139950708.0            Warner Bros.       PG-13   \n",
       "1         88246220.0      264246220.0               Universal       PG-13   \n",
       "0        100289690.0      174131329.0               Universal          PG   \n",
       "\n",
       "          genre  \n",
       "3400      Drama  \n",
       "3393      Drama  \n",
       "3394     Action  \n",
       "3398     Comedy  \n",
       "3396      Drama  \n",
       "...         ...  \n",
       "9     Adventure  \n",
       "3        Action  \n",
       "2     Adventure  \n",
       "1        Action  \n",
       "0        Comedy  \n",
       "\n",
       "[3230 rows x 8 columns]"
      ]
     },
     "execution_count": 29,
     "metadata": {},
     "output_type": "execute_result"
    }
   ],
   "source": [
    "data"
   ]
  },
  {
   "cell_type": "code",
   "execution_count": 30,
   "id": "a239976a-ab91-4cc5-8b6a-359fd82ff9ed",
   "metadata": {},
   "outputs": [
    {
     "data": {
      "text/plain": [
       "genre\n",
       "Drama        1180\n",
       "Comedy        775\n",
       "Action        540\n",
       "Adventure     469\n",
       "Horror        266\n",
       "Name: count, dtype: int64"
      ]
     },
     "execution_count": 30,
     "metadata": {},
     "output_type": "execute_result"
    }
   ],
   "source": [
    "#Counts how many times each genre appears in the dataset.\n",
    "#Insight: Reveals the most common movie genres.\n",
    "data[\"genre\"].value_counts()"
   ]
  },
  {
   "cell_type": "code",
   "execution_count": null,
   "id": "017a33dc-e0cd-41a7-8951-ecbc8d5d3035",
   "metadata": {},
   "outputs": [],
   "source": [
    "#Shows two MPAA ratings with the lowest average domestic gross.\n",
    "#Insight: Identifies which ratings are least profitable domestically."
   ]
  },
  {
   "cell_type": "code",
   "execution_count": 33,
   "id": "e8ab8012-f169-41f3-b0b7-57292fb0116c",
   "metadata": {},
   "outputs": [
    {
     "data": {
      "text/plain": [
       "mpaa_rating\n",
       "R        3.208529e+07\n",
       "PG-13    5.487091e+07\n",
       "Name: domestic_gross, dtype: float64"
      ]
     },
     "execution_count": 33,
     "metadata": {},
     "output_type": "execute_result"
    }
   ],
   "source": [
    "data.groupby(\"mpaa_rating\")[\"domestic_gross\"].mean().sort_values(ascending = True).head(2)"
   ]
  },
  {
   "cell_type": "code",
   "execution_count": 34,
   "id": "de4756b9-ab3d-4bbe-a463-b5b2d3838673",
   "metadata": {},
   "outputs": [
    {
     "data": {
      "image/png": "[encoded data removed]",
      "text/plain": [
       "<Figure size 640x480 with 1 Axes>"
      ]
     },
     "metadata": {},
     "output_type": "display_data"
    }
   ],
   "source": [
    "#histogram showing distribution of worldwide gross.\n",
    "plt.hist(data[\"worldwide_gross\"])\n",
    "plt.title(\"Distribution of worldwide gross\")\n",
    "plt.xlabel(\"worldwide gross\")\n",
    "plt.ylabel(\"freqency\")\n",
    "plt.show()"
   ]
  },
  {
   "cell_type": "code",
   "execution_count": 35,
   "id": "59aa16af-da26-4fb0-b7c7-8fed9877b75b",
   "metadata": {},
   "outputs": [
    {
     "data": {
      "image/png": "[encoded data removed]",
      "text/plain": [
       "<Figure size 640x480 with 1 Axes>"
      ]
     },
     "metadata": {},
     "output_type": "display_data"
    }
   ],
   "source": [
    "#Bar chart of domestic gross for the first few release dates.\n",
    "plt.bar(data[\"release_date\"].head(),data[\"domestic_gross\"].head())\n",
    "plt.title(\"Realese date domestic gross\")\n",
    "plt.xlabel(\"relese date\")\n",
    "plt.ylabel(\"domestic gross\")\n",
    "plt.show()"
   ]
  },
  {
   "cell_type": "code",
   "execution_count": 39,
   "id": "6e1dd819-70ec-4273-8da5-988b463d4787",
   "metadata": {},
   "outputs": [
    {
     "data": {
      "text/plain": [
       "distributor\n",
       "Warner Bros.            4.821614e+10\n",
       "20th Century Fox        4.697384e+10\n",
       "Universal               4.599647e+10\n",
       "Sony Pictures           3.747076e+10\n",
       "Paramount Pictures      3.732193e+10\n",
       "                            ...     \n",
       "IFC Midnight            0.000000e+00\n",
       "Codex Pictures          0.000000e+00\n",
       "ESX Entertainment       0.000000e+00\n",
       "Castle Hill Product…    0.000000e+00\n",
       "Outrider Pictures       0.000000e+00\n",
       "Name: worldwide_gross, Length: 186, dtype: float64"
      ]
     },
     "execution_count": 39,
     "metadata": {},
     "output_type": "execute_result"
    }
   ],
   "source": [
    "#Sums up worldwide gross per distributor, sorted descending.\n",
    "data.groupby(\"distributor\")[\"worldwide_gross\"].sum().sort_values(ascending = False)"
   ]
  },
  {
   "cell_type": "code",
   "execution_count": 41,
   "id": "c10735c3-aea0-4fd1-8cf1-081778cc76e0",
   "metadata": {},
   "outputs": [
    {
     "data": {
      "text/plain": [
       "genre\n",
       "Action       5.850313e+07\n",
       "Adventure    6.230153e+07\n",
       "Comedy       2.517041e+07\n",
       "Drama        2.238141e+07\n",
       "Horror       1.881391e+07\n",
       "Name: production_budget, dtype: float64"
      ]
     },
     "execution_count": 41,
     "metadata": {},
     "output_type": "execute_result"
    }
   ],
   "source": [
    "#Average production budget by genre\n",
    "data.groupby(\"genre\")[\"production_budget\"].mean()"
   ]
  },
  {
   "cell_type": "code",
   "execution_count": 46,
   "id": "53fb70a8-e3d6-4b4a-9263-0f36fde039ea",
   "metadata": {},
   "outputs": [
    {
     "data": {
      "text/plain": [
       "mpaa_rating\n",
       "G        58611764.5\n",
       "PG       48006762.0\n",
       "PG-13    34522221.0\n",
       "R        15934642.0\n",
       "Name: domestic_gross, dtype: float64"
      ]
     },
     "execution_count": 46,
     "metadata": {},
     "output_type": "execute_result"
    }
   ],
   "source": [
    "#Median gross per rating instead of average \n",
    "data.groupby(\"mpaa_rating\")[\"domestic_gross\"].median()"
   ]
  },
  {
   "cell_type": "code",
   "execution_count": 47,
   "id": "8d2a2fbc-46d7-4c52-8ef1-9e1f43571557",
   "metadata": {},
   "outputs": [
    {
     "data": {
      "text/plain": [
       "release_date\n",
       "00    820\n",
       "01    691\n",
       "20    537\n",
       "99    350\n",
       "19    218\n",
       "Name: movie, dtype: int64"
      ]
     },
     "execution_count": 47,
     "metadata": {},
     "output_type": "execute_result"
    }
   ],
   "source": [
    "#Extracts year from release date and shows the most frequent years.\n",
    "data.groupby(data[\"release_date\"].str.slice(6,8))[\"movie\"].count().sort_values(ascending=False).head(5)"
   ]
  },
  {
   "cell_type": "code",
   "execution_count": null,
   "id": "7f66de05-b4b5-48ad-9211-c211c3ef4034",
   "metadata": {},
   "outputs": [],
   "source": [
    "#Aggregations for max/min/sum"
   ]
  },
  {
   "cell_type": "code",
   "execution_count": 48,
   "id": "ef008a19-0dcc-4f7e-87fc-ee2d6efaeb00",
   "metadata": {},
   "outputs": [
    {
     "data": {
      "text/plain": [
       "genre\n",
       "Action       416769345.0\n",
       "Adventure    474544677.0\n",
       "Comedy       285761243.0\n",
       "Drama        435110554.0\n",
       "Horror       327481748.0\n",
       "Name: domestic_gross, dtype: float64"
      ]
     },
     "execution_count": 48,
     "metadata": {},
     "output_type": "execute_result"
    }
   ],
   "source": [
    "#Max domestic gross per genre.\n",
    "data.groupby(\"genre\")[\"domestic_gross\"].max()"
   ]
  },
  {
   "cell_type": "code",
   "execution_count": 49,
   "id": "08b96e4c-a19f-4705-bb4c-014370e3a315",
   "metadata": {},
   "outputs": [
    {
     "data": {
      "text/plain": [
       "mpaa_rating\n",
       "G        560000.0\n",
       "PG       300000.0\n",
       "PG-13    250000.0\n",
       "R        250000.0\n",
       "Name: production_budget, dtype: float64"
      ]
     },
     "execution_count": 49,
     "metadata": {},
     "output_type": "execute_result"
    }
   ],
   "source": [
    "#Min budget per rating.\n",
    "data.groupby(\"mpaa_rating\")[\"production_budget\"].min()"
   ]
  },
  {
   "cell_type": "code",
   "execution_count": 50,
   "id": "71bf85c6-70b5-4dfc-b2b0-dcb555164d40",
   "metadata": {},
   "outputs": [
    {
     "data": {
      "text/plain": [
       "distributor\n",
       "20th Century Fox        1.726979e+08\n",
       "8X Entertainment        6.047691e+06\n",
       "A24                     2.332026e+07\n",
       "ARC Entertainment       2.248513e+06\n",
       "Abramorama Films        5.491850e+05\n",
       "                            ...     \n",
       "Well Go USA             1.573010e+08\n",
       "Wrekin Hill Enterta…    6.155376e+07\n",
       "XLrator Media           9.270740e+05\n",
       "Yari Film Group Rel…    4.352631e+07\n",
       "Zeitgeist               6.173485e+06\n",
       "Name: worldwide_gross, Length: 186, dtype: float64"
      ]
     },
     "execution_count": 50,
     "metadata": {},
     "output_type": "execute_result"
    }
   ],
   "source": [
    "#Average worldwide gross per distributor.\n",
    "data.groupby(\"distributor\")[\"worldwide_gross\"].mean()"
   ]
  },
  {
   "cell_type": "code",
   "execution_count": 53,
   "id": "fca802df-4b27-47c8-862c-9ac168c89fcd",
   "metadata": {},
   "outputs": [
    {
     "data": {
      "text/plain": [
       "mpaa_rating\n",
       "G        3.875780e+16\n",
       "PG       3.355641e+16\n",
       "PG-13    2.422744e+16\n",
       "R        9.384744e+15\n",
       "Name: worldwide_gross, dtype: float64"
      ]
     },
     "execution_count": 53,
     "metadata": {},
     "output_type": "execute_result"
    }
   ],
   "source": [
    "#Measures the variance in global revenue across different ratings.\n",
    "#Insight: High variance might suggest inconsistent performance for that rating.\n",
    "data.groupby(\"mpaa_rating\")[\"worldwide_gross\"].var()"
   ]
  },
  {
   "cell_type": "code",
   "execution_count": 54,
   "id": "53779a00-ccf8-4a75-9351-f75791021c68",
   "metadata": {},
   "outputs": [
    {
     "data": {
      "image/png": "[encoded data removed]",
      "text/plain": [
       "<Figure size 640x480 with 1 Axes>"
      ]
     },
     "metadata": {},
     "output_type": "display_data"
    }
   ],
   "source": [
    "#Bar chart: total budget per genre\n",
    "data.groupby(\"genre\")[\"production_budget\"].sum().plot(kind =\"bar\")\n",
    "plt.title(\"Total production budget by genre\")\n",
    "plt.xlabel(\"Genre\")\n",
    "plt.ylabel(\"Total production budget\")\n",
    "plt.show()"
   ]
  },
  {
   "cell_type": "code",
   "execution_count": 57,
   "id": "e3fc2bef-1c9c-459a-b3b5-a046e4ecd946",
   "metadata": {},
   "outputs": [
    {
     "data": {
      "image/png": "[encoded data removed]",
      "text/plain": [
       "<Figure size 640x480 with 1 Axes>"
      ]
     },
     "metadata": {},
     "output_type": "display_data"
    }
   ],
   "source": [
    "#Line chart: avg worldwide gross over years\n",
    "data.groupby(data[\"release_date\"].str.slice(6,8))[\"worldwide_gross\"].mean().plot(kind =\"line\")\n",
    "plt.title(\"Mean Worldwide gross over years\")\n",
    "plt.xlabel(\"Realease year\")\n",
    "plt.ylabel(\"Mean woeldwide gross\")\n",
    "plt.show()"
   ]
  },
  {
   "cell_type": "code",
   "execution_count": 60,
   "id": "763daa61-ecfd-487b-802c-ba7b341a4f9f",
   "metadata": {},
   "outputs": [
    {
     "data": {
      "image/png": "[encoded data removed]",
      "text/plain": [
       "<Figure size 640x480 with 1 Axes>"
      ]
     },
     "metadata": {},
     "output_type": "display_data"
    }
   ],
   "source": [
    "# Pie chart: domestic gross by rating\n",
    "data.groupby(\"mpaa_rating\")[\"domestic_gross\"].sum().plot(kind=\"pie\")\n",
    "plt.title(\"Total domestic gross by rating\")\n",
    "plt.ylabel(\"\")\n",
    "plt.show()\n"
   ]
  },
  {
   "cell_type": "code",
   "execution_count": 61,
   "id": "bcf8822a-4f79-4273-b645-c39e7d7ee63b",
   "metadata": {},
   "outputs": [
    {
     "data": {
      "image/png": "[encoded data removed]",
      "text/plain": [
       "<Figure size 640x480 with 1 Axes>"
      ]
     },
     "metadata": {},
     "output_type": "display_data"
    }
   ],
   "source": [
    "#Scatter plot: budget vs gross\n",
    "data.plot(kind = \"scatter\",x = \"production_budget\",y=\"worldwide_gross\")\n",
    "plt.title(\"Scatter plot of production budget vs worldwide gross\")\n",
    "plt.xlabel(\"production budget\")\n",
    "plt.ylabel(\"worldwide gross\")\n",
    "plt.show()"
   ]
  },
  {
   "cell_type": "code",
   "execution_count": 64,
   "id": "4a022595-594d-4fe3-a776-ffcd8936f7a9",
   "metadata": {},
   "outputs": [
    {
     "data": {
      "image/png": "[encoded data removed]",
      "text/plain": [
       "<Figure size 640x480 with 1 Axes>"
      ]
     },
     "metadata": {},
     "output_type": "display_data"
    }
   ],
   "source": [
    "#Horizontal bar: avg gross by distributor\n",
    "data.groupby(\"distributor\")[\"domestic_gross\"].mean().head().plot(kind = \"barh\")\n",
    "plt.title(\"Average domestic gross by distributor\")\n",
    "plt.xlabel(\"Average domestic gross\")\n",
    "plt.ylabel(\"distributor\")\n",
    "plt.show()"
   ]
  },
  {
   "cell_type": "code",
   "execution_count": null,
   "id": "ad945099-e317-4f65-b3c4-65230506bd82",
   "metadata": {},
   "outputs": [],
   "source": []
  }
 ],
 "metadata": {
  "kernelspec": {
   "display_name": "Python 3 (ipykernel)",
   "language": "python",
   "name": "python3"
  },
  "language_info": {
   "codemirror_mode": {
    "name": "ipython",
    "version": 3
   },
   "file_extension": ".py",
   "mimetype": "text/x-python",
   "name": "python",
   "nbconvert_exporter": "python",
   "pygments_lexer": "ipython3",
   "version": "3.12.4"
  }
 },
 "nbformat": 4,
 "nbformat_minor": 5
}
